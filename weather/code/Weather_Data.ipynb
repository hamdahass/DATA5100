{
 "cells": [
  {
   "cell_type": "markdown",
   "id": "7b384b80-1106-4c18-9f41-7c5dee669720",
   "metadata": {},
   "source": [
    "### Loading the Data and importing the neccessary libraries."
   ]
  },
  {
   "cell_type": "code",
   "execution_count": null,
   "id": "65f5216c-9e38-429f-a345-e28ad8970746",
   "metadata": {},
   "outputs": [],
   "source": [
    "# Importing libraries\n",
    "import pandas as pd\n",
    "import numpy as np\n",
    "import matplotlib.pyplot as plt\n",
    "\n",
    "# Seaborn: Data visualization libray built on matplotlib\n",
    "import seaborn as sns\n",
    "\n",
    "# Set the plotting style\n",
    "sns.set_style(\"whitegrid\")"
   ]
  },
  {
   "cell_type": "code",
   "execution_count": null,
   "id": "850cd10c-bb4a-439e-97b2-3c906ed78c0f",
   "metadata": {},
   "outputs": [],
   "source": [
    "df_seattle = pd.read_csv('/Users/hamdahassan/DATA5100/weather/data/seattle_rain.csv')"
   ]
  },
  {
   "cell_type": "code",
   "execution_count": null,
   "id": "55b8a884-d015-46cd-be25-debe4e8674d0",
   "metadata": {},
   "outputs": [],
   "source": [
    "df_copanhagen = pd.read_csv('/Users/hamdahassan/DATA5100/weather/data/Copanhagen_rain.csv')"
   ]
  },
  {
   "cell_type": "markdown",
   "id": "5b7000d7-200b-4efa-b1af-cc8fe50d7edf",
   "metadata": {},
   "source": [
    "### Reviewing the dataset\n",
    "- Compared the two datasets using methods like head() to look at the first few rows.\n",
    "- This helps with understanding the structure of the data (columns, formats, and sample values)."
   ]
  },
  {
   "cell_type": "code",
   "execution_count": null,
   "id": "abe6ae60-129e-45f0-b7ec-fac9f7e52ac0",
   "metadata": {},
   "outputs": [],
   "source": [
    "df_seattle.head()"
   ]
  },
  {
   "cell_type": "code",
   "execution_count": null,
   "id": "19695f62-7ffb-4f01-b364-947d6b21b3c5",
   "metadata": {},
   "outputs": [],
   "source": [
    "df_copanhagen.head()"
   ]
  },
  {
   "cell_type": "code",
   "execution_count": null,
   "id": "bd33956c-9769-42f1-b7e6-08b3ab154e7e",
   "metadata": {
    "scrolled": true
   },
   "outputs": [],
   "source": [
    "df_seattle['STATION'].nunique()"
   ]
  },
  {
   "cell_type": "markdown",
   "id": "3b2b10a5-b4ed-4f82-974e-d1e87ae7b1a7",
   "metadata": {},
   "source": [
    "### Converting the datasets to Datetime\n",
    "- Converted DATE column to a datetime format to ensure that time-based operations (such as finding the max date or sorting) are accurate. \n",
    "- If the dates remain as strings, the methods could treat them as text instead of actual dates, which would lead to incorrect results."
   ]
  },
  {
   "cell_type": "code",
   "execution_count": null,
   "id": "b399d44b-61c9-431b-b626-273181172cc1",
   "metadata": {},
   "outputs": [],
   "source": [
    "df_seattle['DATE'] = pd.to_datetime(df_seattle['DATE'])\n",
    "df_seattle['DATE'] = df_seattle['DATE'].dt.strftime('%Y-%m-%d')"
   ]
  },
  {
   "cell_type": "code",
   "execution_count": null,
   "id": "9d99d4a8-6219-4332-888c-1b0815d13a27",
   "metadata": {},
   "outputs": [],
   "source": [
    "df_copanhagen['DATE'] = pd.to_datetime(df_copanhagen['DATE'])\n",
    "df_copanhagen['DATE'] = df_copanhagen['DATE'].dt.strftime('%Y-%m-%d')"
   ]
  },
  {
   "cell_type": "markdown",
   "id": "93cc43a1-c42b-4a4e-ad69-4627642c925f",
   "metadata": {},
   "source": [
    "### Analyzing the Dates\n",
    "- Reviewed the dates for each city to ensure that we only have dates from 01/01/2018 to 12/31/2022."
   ]
  },
  {
   "cell_type": "code",
   "execution_count": null,
   "id": "1893b6c3-fa77-40ff-9716-0f73c296b2d3",
   "metadata": {},
   "outputs": [],
   "source": [
    "df_seattle['DATE'].agg(['min', 'max'])"
   ]
  },
  {
   "cell_type": "code",
   "execution_count": null,
   "id": "be435c99-6d93-4178-8b39-fe0c1a7913c2",
   "metadata": {},
   "outputs": [],
   "source": [
    "df_copanhagen['DATE'].agg(['min', 'max'])"
   ]
  },
  {
   "cell_type": "markdown",
   "id": "63ed9671-6804-4357-8bc8-15a0bda8258a",
   "metadata": {},
   "source": [
    "### Suitable Data?\n",
    "- Checked if the data is suitable by plotting the daily percipitation for each city."
   ]
  },
  {
   "cell_type": "code",
   "execution_count": null,
   "id": "f163b951-81ea-49a3-942b-dc38e14ce4bf",
   "metadata": {},
   "outputs": [],
   "source": [
    "df_seattle['DATE'] = pd.to_datetime(df_seattle['DATE'])\n",
    "plt.figure(figsize=(20, 5))\n",
    "\n",
    "sns.lineplot(data=df_seattle, x='DATE', y=\"PRCP\")\n",
    "\n",
    "plt.xlabel('Date', fontsize=18)\n",
    "plt.ylabel('Preticipation (inches)', fontsize=18)\n",
    "\n",
    "plt.tick_params(labelsize=15)\n",
    "\n",
    "plt.show()"
   ]
  },
  {
   "cell_type": "code",
   "execution_count": null,
   "id": "d87b7945-2ace-4012-bc51-cad0d9675414",
   "metadata": {},
   "outputs": [],
   "source": [
    "df_copanhagen['DATE'] = pd.to_datetime(df_copanhagen['DATE'])\n",
    "plt.figure(figsize=(20, 5))\n",
    "\n",
    "sns.lineplot(data=df_copanhagen, x='DATE', y=\"PRCP\")\n",
    "\n",
    "plt.xlabel('Date', fontsize=18)\n",
    "plt.ylabel('Preticipation (inches)', fontsize=18)\n",
    "\n",
    "plt.tick_params(labelsize=15)\n",
    "\n",
    "plt.show()"
   ]
  },
  {
   "cell_type": "markdown",
   "id": "bba3565e-4e8b-45d9-8c16-7278677b2a6a",
   "metadata": {},
   "source": [
    "### Am I making fair comparisons?\n",
    "- Copenhagen city has more stations so this process ensures that we are only focusing on one station so that\n",
    "we are making a fair comparison (station vs staion). Filtered for the (HELSINGBORG A, SW) station and then\n",
    "used methods like unique(), info() to see if I got the correct information."
   ]
  },
  {
   "cell_type": "code",
   "execution_count": null,
   "id": "eb23ba38-fb78-4aff-9dce-6c6e77545329",
   "metadata": {},
   "outputs": [],
   "source": [
    "df_copanhagen['NAME'].unique()"
   ]
  },
  {
   "cell_type": "code",
   "execution_count": null,
   "id": "dc3868e9-7d9f-43bc-b0cb-28ea56c375db",
   "metadata": {},
   "outputs": [],
   "source": [
    "df_copanhagen = df_copanhagen.loc[df_copanhagen['NAME'] == \"HELSINGBORG A, SW\"]"
   ]
  },
  {
   "cell_type": "code",
   "execution_count": null,
   "id": "3391f3b8-2f82-4540-9d91-7b58c3bf6d11",
   "metadata": {},
   "outputs": [],
   "source": [
    "df_copanhagen['STATION'].unique()"
   ]
  },
  {
   "cell_type": "code",
   "execution_count": null,
   "id": "23432d25-c984-4e8a-8d41-50b2aebc5cb7",
   "metadata": {},
   "outputs": [],
   "source": [
    "df_copanhagen.shape"
   ]
  },
  {
   "cell_type": "code",
   "execution_count": null,
   "id": "d25d76e9-9a68-4494-b376-06a264c5ac94",
   "metadata": {},
   "outputs": [],
   "source": [
    "df_copanhagen.info()"
   ]
  },
  {
   "cell_type": "markdown",
   "id": "d25e8d5c-1b46-4b76-b236-76857b2e9b58",
   "metadata": {},
   "source": [
    "### Joining the two datasets and cleaning up.\n",
    "- This combines the Copenhagen and Seattle datasets into a single DataFrame. It keeps only the *DATE* and *PRCP* columns from each dataset, then merges them together based on matching dates.\n",
    "- Outer join ensures that all dates from both datasets are included, even if one city is missing data for that day. After that, we create a new set that has  *DATE*, *City* and *PRCP* columns. The city column represent SEA or COP as x and y. \n"
   ]
  },
  {
   "cell_type": "code",
   "execution_count": null,
   "id": "080592a4-4ce7-4dec-ba2c-e78f2891eb8e",
   "metadata": {},
   "outputs": [],
   "source": [
    "df = df_copanhagen[['DATE', 'PRCP']].merge(df_seattle[['DATE', 'PRCP']], on='DATE', how='outer')"
   ]
  },
  {
   "cell_type": "code",
   "execution_count": null,
   "id": "eb4f6e63-8998-4a59-87b5-2e123bc1900b",
   "metadata": {},
   "outputs": [],
   "source": [
    "df.head()"
   ]
  },
  {
   "cell_type": "code",
   "execution_count": null,
   "id": "cd43385c-8b77-4ddf-b93f-21a5cccf5665",
   "metadata": {},
   "outputs": [],
   "source": [
    "df = pd.melt(df, id_vars='DATE', var_name='city', value_name='precipitation')"
   ]
  },
  {
   "cell_type": "code",
   "execution_count": null,
   "id": "961807cd-e666-4f7e-9854-5e08eb692e9c",
   "metadata": {},
   "outputs": [],
   "source": [
    "df.head()"
   ]
  },
  {
   "cell_type": "markdown",
   "id": "91ca0655-677d-49d1-ab21-e9baf3ef874b",
   "metadata": {},
   "source": [
    "### Readability, testing, and changing column names \n",
    "- Changed the city values that were 'PRCP_x' or 'PRCP_y' to be 'COP' or 'SEA'.\n",
    "- Renamed *DATE* column to *date* for consistency and readability\n",
    "- Used methods like head() and tail() to see the values stored in the first and last rows of the data"
   ]
  },
  {
   "cell_type": "code",
   "execution_count": null,
   "id": "c6a39425-ec72-412b-82ff-a59a9ccef9ac",
   "metadata": {},
   "outputs": [],
   "source": [
    "df.loc[df['city'] == 'PRCP_x', 'city'] = 'COP'"
   ]
  },
  {
   "cell_type": "code",
   "execution_count": null,
   "id": "9e69b78a-7c2b-4c13-8b42-ae70d38d862f",
   "metadata": {},
   "outputs": [],
   "source": [
    "df.loc[df['city'] == 'PRCP_y', 'city'] = 'SEA'"
   ]
  },
  {
   "cell_type": "code",
   "execution_count": null,
   "id": "1043c9d1-f0ed-49d1-bc93-d0413c2d33e6",
   "metadata": {},
   "outputs": [],
   "source": [
    "df.head()"
   ]
  },
  {
   "cell_type": "code",
   "execution_count": null,
   "id": "0faedfbf-502f-490f-ae15-dfe06c1166db",
   "metadata": {},
   "outputs": [],
   "source": [
    "df.tail()"
   ]
  },
  {
   "cell_type": "code",
   "execution_count": null,
   "id": "56633aeb-71fb-4252-af10-a89f9767ea95",
   "metadata": {},
   "outputs": [],
   "source": [
    "df = df.rename(columns={'DATE': 'date'})"
   ]
  },
  {
   "cell_type": "markdown",
   "id": "e44b63dd-0b55-4d82-81d9-7d3481b70e94",
   "metadata": {},
   "source": [
    "### Dealing with missing data\n",
    "- Checked the number of non-missing and missing values in the dataset.\n",
    "- Checked the count of missing precipitation values separately for each city."
   ]
  },
  {
   "cell_type": "code",
   "execution_count": null,
   "id": "eecdf32c-18a0-43b5-a2ea-09f14aab8b61",
   "metadata": {},
   "outputs": [],
   "source": [
    "df.notna().sum()"
   ]
  },
  {
   "cell_type": "code",
   "execution_count": null,
   "id": "268294c3-db35-47fe-9f03-1bd701c11cf3",
   "metadata": {},
   "outputs": [],
   "source": [
    "df.isna().sum()"
   ]
  },
  {
   "cell_type": "code",
   "execution_count": null,
   "id": "175d4c6b-4a9a-4b66-b7c5-4e6a86d4e32a",
   "metadata": {},
   "outputs": [],
   "source": [
    "df.loc[df['city'] == 'SEA', 'precipitation'].isna().sum()"
   ]
  },
  {
   "cell_type": "code",
   "execution_count": null,
   "id": "bbe3aa48-6c76-4cb0-ba0a-b76bb64f1a4a",
   "metadata": {},
   "outputs": [],
   "source": [
    "df.loc[df['city'] == 'COP', 'precipitation'].isna().sum()"
   ]
  },
  {
   "cell_type": "markdown",
   "id": "24349170-501a-4fd3-ae77-5ae9e95f37b7",
   "metadata": {},
   "source": [
    "### Impute the missing values\n",
    "- Replaced the missing values with the mean across years of values on that day.\n",
    "- Defined a new variable that's called *day_of_year*\n",
    "- This will help because it will help allow us to identify the values we want to average over."
   ]
  },
  {
   "cell_type": "code",
   "execution_count": null,
   "id": "4a11256a-2b59-49e9-8285-47b669e9db6b",
   "metadata": {},
   "outputs": [],
   "source": [
    "df['day_of_year'] = pd.DatetimeIndex(df['date']).day_of_year"
   ]
  },
  {
   "cell_type": "code",
   "execution_count": null,
   "id": "5e7800d6-65a8-41f9-8461-a99c010f8fb5",
   "metadata": {},
   "outputs": [],
   "source": [
    "df.head(10)"
   ]
  },
  {
   "cell_type": "markdown",
   "id": "178fae92-f31d-4fcf-a3b4-bff37b024604",
   "metadata": {},
   "source": [
    "### Mean of precipitation across years and a line chart to represent that\n",
    "- Compute the mean of precipitation for each day in Copenhagen, averaged across years.\n",
    "- Created a line chart that shows the mean preticipation on the x-axis and the day of the year on the y-axis."
   ]
  },
  {
   "cell_type": "code",
   "execution_count": null,
   "id": "e80f766e-5c72-4689-8bd5-4899bf607f1d",
   "metadata": {},
   "outputs": [],
   "source": [
    "mean_day_precipitation = df.loc[df['city'] == 'COP', \n",
    "        ['precipitation', 'day_of_year']].groupby(\n",
    "            'day_of_year').mean()"
   ]
  },
  {
   "cell_type": "code",
   "execution_count": null,
   "id": "05964d9d-863a-480e-b8eb-3142aae484f6",
   "metadata": {},
   "outputs": [],
   "source": [
    "plt.figure(figsize=(20, 5))\n",
    "\n",
    "sns.lineplot(data=mean_day_precipitation, x='day_of_year', y='precipitation')\n",
    "\n",
    "plt.xlabel('Day of the year', fontsize=18)\n",
    "plt.ylabel('Mean preticipation (inches)', fontsize=18)\n",
    "\n",
    "plt.tick_params(labelsize=15)\n",
    "\n",
    "plt.show()"
   ]
  },
  {
   "cell_type": "markdown",
   "id": "431ac7fb-ee8d-4875-b80d-d4f2d8b5561d",
   "metadata": {},
   "source": [
    "### Replacing the null values\n",
    "- Get the indices of each row where precipitation is missing and replace it.\n",
    "- Then test the data using .isna(), .head(), and .tail() to see if there are missing values now."
   ]
  },
  {
   "cell_type": "code",
   "execution_count": null,
   "id": "5b764703-a1df-4600-84bf-2badc12678b5",
   "metadata": {},
   "outputs": [],
   "source": [
    "indices = np.where(df['precipitation'].isna() == True)[0]"
   ]
  },
  {
   "cell_type": "code",
   "execution_count": null,
   "id": "3d49f149-8233-436b-ba5c-bb0143ca99c0",
   "metadata": {},
   "outputs": [],
   "source": [
    "for index in indices:\n",
    "    df.loc[index, 'precipitation'] = mean_day_precipitation.loc[df.loc[index, 'day_of_year']].values[0]"
   ]
  },
  {
   "cell_type": "code",
   "execution_count": null,
   "id": "53d16eee-5827-4558-914b-48ca82d598a4",
   "metadata": {},
   "outputs": [],
   "source": [
    "df.isna().sum()"
   ]
  },
  {
   "cell_type": "code",
   "execution_count": null,
   "id": "d78fd8ca-6531-42e0-b41e-d70e99313fe0",
   "metadata": {},
   "outputs": [],
   "source": [
    "df.head()"
   ]
  },
  {
   "cell_type": "code",
   "execution_count": null,
   "id": "c2689e71-3c81-4221-87ab-36c6e1dee11e",
   "metadata": {},
   "outputs": [],
   "source": [
    "df.tail()"
   ]
  },
  {
   "cell_type": "markdown",
   "id": "12d77398-326a-4412-b88b-6505367bd75b",
   "metadata": {},
   "source": [
    "### Exporting the new dataset as a csv file"
   ]
  },
  {
   "cell_type": "code",
   "execution_count": null,
   "id": "5cf2c7d1-d1c7-4c1f-94fa-73958366a1b4",
   "metadata": {},
   "outputs": [],
   "source": [
    "df.to_csv('clean_seattle_copanhagen_weather.csv', encoding='utf-8-sig', index=False)"
   ]
  },
  {
   "cell_type": "code",
   "execution_count": null,
   "id": "10ede490-d415-4dba-a75e-f314e8448435",
   "metadata": {},
   "outputs": [],
   "source": [
    "final_df = pd.read_csv(\"/Users/hamdahassan/DATA5100/weather/data/clean_seattle_copanhagen_weather.csv\")"
   ]
  },
  {
   "cell_type": "markdown",
   "id": "5931aee0-9e9d-48d7-bd02-156dec657941",
   "metadata": {},
   "source": [
    "### Checking for missing values or duplicates in the new data.\n",
    "- Using duplicated() and isna() methods"
   ]
  },
  {
   "cell_type": "code",
   "execution_count": null,
   "id": "a78c7d64-1aa6-487a-86b3-298f5fcda03c",
   "metadata": {},
   "outputs": [],
   "source": [
    "final_df.duplicated().any()"
   ]
  },
  {
   "cell_type": "code",
   "execution_count": null,
   "id": "20190f7f-6370-4b8f-882a-f240ce4aef6f",
   "metadata": {},
   "outputs": [],
   "source": [
    "final_df.isna().sum()"
   ]
  },
  {
   "cell_type": "markdown",
   "id": "56fa14ab-d828-4ea9-89a1-7a32508bd638",
   "metadata": {},
   "source": [
    "### Summary Statistics\n",
    "- summary for each city. *avg_precipitation* computes the average precipitation for each city.\n",
    "- *total_precipitation* calculates the total precipitation, allowing us to compare overall rainfall between Seattle and Copenhagen.\n",
    "- *rainy_days* counts the number of days with precipitation for each city. It helps us compare how often it rains in Seattle versus Copenhagen."
   ]
  },
  {
   "cell_type": "code",
   "execution_count": null,
   "id": "7428b251-084c-484d-8522-858b9361ecbe",
   "metadata": {},
   "outputs": [],
   "source": [
    "avg_precipitation = final_df.groupby(\"city\")[\"precipitation\"].mean()"
   ]
  },
  {
   "cell_type": "code",
   "execution_count": null,
   "id": "2005e0dd-52e8-409c-a58b-35f8a438a8ac",
   "metadata": {},
   "outputs": [],
   "source": [
    "total_precipitation = final_df.groupby(\"city\")[\"precipitation\"].sum()"
   ]
  },
  {
   "cell_type": "code",
   "execution_count": null,
   "id": "de90f95d-cba3-4934-a886-76aaa7400751",
   "metadata": {},
   "outputs": [],
   "source": [
    "rainy_days = final_df[final_df[\"precipitation\"] > 0].groupby(\"city\")[\"date\"].count()"
   ]
  },
  {
   "cell_type": "markdown",
   "id": "fb367967-924f-4f6c-b4b8-51330302741c",
   "metadata": {},
   "source": [
    "### Visualizing the Data"
   ]
  },
  {
   "cell_type": "markdown",
   "id": "8a75b14a-3091-4556-8682-2559e9a36d2e",
   "metadata": {},
   "source": [
    "### Visualization 01: Bar chart showing mean daily precipitation\n",
    "- This Bar chart shows the mean daily precipitation for Seattle and Copenhagen over the dataset period. "
   ]
  },
  {
   "cell_type": "code",
   "execution_count": null,
   "id": "21dbf945-5966-4ea8-a897-c4b57835ca0a",
   "metadata": {},
   "outputs": [],
   "source": [
    "sns.barplot(data=final_df, x='city', y='precipitation', hue='city', palette=['skyblue', 'lightgreen'])\n",
    "plt.xlabel(\"City\", fontsize=18)\n",
    "plt.ylabel(\"Precipitation (inches)\", fontsize=18)\n",
    "plt.title(\"Mean Daily Precipitation: Seattle vs Copenhagen\", fontsize=16)\n",
    "plt.tick_params(labelsize=15)\n",
    "plt.show()"
   ]
  },
  {
   "cell_type": "markdown",
   "id": "724549df-5160-4aef-b3dd-4759e7f14ea3",
   "metadata": {},
   "source": [
    "### Visualization 02: Line chart showing daily Precipitation\n",
    "- This line chart shows the daily precipitation for Seattle and Copenhagen over the dataset period. Each line represents one city. The chart identifies periods of heavier rain and overall differences between the two cities."
   ]
  },
  {
   "cell_type": "code",
   "execution_count": null,
   "id": "6c864f7a-2b8d-4551-b772-24ff654657a2",
   "metadata": {},
   "outputs": [],
   "source": [
    "final_df['date'] = pd.to_datetime(final_df['date'])\n",
    "\n",
    "plt.figure(figsize=(20,5))\n",
    "\n",
    "sns.lineplot(data=final_df, x='date', y='precipitation', hue='city', palette=['skyblue', 'lightgreen'])\n",
    "plt.xlabel(\"Date\", fontsize=18)\n",
    "plt.ylabel(\"Precipitation (inches)\", fontsize=18)\n",
    "plt.title(\"Daily Precipitation Trends: Seattle vs Copenhagen\", fontsize=16)\n",
    "plt.tick_params(labelsize=15)\n",
    "plt.show()\n"
   ]
  },
  {
   "cell_type": "markdown",
   "id": "a32a3da9-c2c5-44c8-a9e3-6e7e0d812b99",
   "metadata": {},
   "source": [
    "### Visualization 03: Bar chart showing total precipitation for each city each year.\n",
    "- This Bar chart shows the total precipitation for Seattle and Copenhagen every year (2018-2022)."
   ]
  },
  {
   "cell_type": "code",
   "execution_count": null,
   "id": "4baaeef8-c509-479d-829d-07df3366294e",
   "metadata": {},
   "outputs": [],
   "source": [
    "import matplotlib.pyplot as plt\n",
    "\n",
    "# Make sure 'date' is datetime\n",
    "final_df['date'] = pd.to_datetime(final_df['date'])\n",
    "\n",
    "# Extract year from the date\n",
    "final_df['year'] = final_df['date'].dt.year\n",
    "\n",
    "# Group by year and city, then sum precipitation\n",
    "yearly_precip = final_df.groupby(['year', 'city'])['precipitation'].sum().unstack()\n",
    "\n",
    "# Plot a bar chart with grouped bars for each city\n",
    "yearly_precip.plot(kind='bar', figsize=(12,6), color=['skyblue', 'lightgreen'])\n",
    "plt.xlabel(\"Year\", fontsize=14)\n",
    "plt.ylabel(\"Total Precipitation (inches)\", fontsize=14)\n",
    "plt.title(\"Total Precipitation per Year: Seattle vs Copenhagen\", fontsize=16)\n",
    "plt.legend(title='City')\n",
    "plt.show()"
   ]
  },
  {
   "cell_type": "markdown",
   "id": "85cddbab-97f0-4c38-82e1-dba5d57bd8b6",
   "metadata": {},
   "source": [
    "### Visualization 04: Bar chart showing number of rainy days for each city.\n",
    "- This Bar chart shows the total number of rainy days Seattle and Copenhagen got between (2018-2022)."
   ]
  },
  {
   "cell_type": "code",
   "execution_count": null,
   "id": "103d65c0-f4ff-49bb-bc1d-030bfffdadb7",
   "metadata": {},
   "outputs": [],
   "source": [
    "rainy_df = rainy_days.reset_index()\n",
    "rainy_df.columns = ['City', 'Rainy_Days']\n",
    "\n",
    "plt.figure(figsize=(8,5))\n",
    "sns.barplot(data=rainy_df, x='City', y='Rainy_Days', palette=['lightblue','lightgreen'])\n",
    "plt.title(\"Number of Rainy Days: Seattle vs Copenhagen\", fontsize=16)\n",
    "plt.ylabel(\"Number of Rainy Days\", fontsize=14)\n",
    "plt.show()"
   ]
  }
 ],
 "metadata": {
  "kernelspec": {
   "display_name": "Python [conda env:base] *",
   "language": "python",
   "name": "conda-base-py"
  },
  "language_info": {
   "codemirror_mode": {
    "name": "ipython",
    "version": 3
   },
   "file_extension": ".py",
   "mimetype": "text/x-python",
   "name": "python",
   "nbconvert_exporter": "python",
   "pygments_lexer": "ipython3",
   "version": "3.13.5"
  }
 },
 "nbformat": 4,
 "nbformat_minor": 5
}
